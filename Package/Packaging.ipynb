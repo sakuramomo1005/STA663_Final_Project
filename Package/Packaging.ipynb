{
 "cells": [
  {
   "cell_type": "markdown",
   "metadata": {},
   "source": [
    "#### Wrap our codes into a package called:  hierarchical_LDA"
   ]
  },
  {
   "cell_type": "code",
   "execution_count": 1,
   "metadata": {
    "collapsed": true
   },
   "outputs": [
    {
     "name": "stdout",
     "output_type": "stream",
     "text": [
      "Requirement already up-to-date: pip in /opt/conda/lib/python3.6/site-packages (10.0.1)\n",
      "Requirement already satisfied: twine in /opt/conda/lib/python3.6/site-packages (1.11.0)\n",
      "Requirement already satisfied: tqdm>=4.14 in /opt/conda/lib/python3.6/site-packages (from twine) (4.22.0)\n",
      "Requirement already satisfied: setuptools>=0.7.0 in /opt/conda/lib/python3.6/site-packages (from twine) (36.5.0.post20170921)\n",
      "Requirement already satisfied: requests!=2.15,!=2.16,>=2.5.0 in /opt/conda/lib/python3.6/site-packages (from twine) (2.18.4)\n",
      "Requirement already satisfied: requests-toolbelt>=0.8.0 in /opt/conda/lib/python3.6/site-packages (from twine) (0.8.0)\n",
      "Requirement already satisfied: pkginfo>=1.4.2 in /opt/conda/lib/python3.6/site-packages (from twine) (1.4.2)\n",
      "Requirement already satisfied: chardet<3.1.0,>=3.0.2 in /opt/conda/lib/python3.6/site-packages (from requests!=2.15,!=2.16,>=2.5.0->twine) (3.0.4)\n",
      "Requirement already satisfied: idna<2.7,>=2.5 in /opt/conda/lib/python3.6/site-packages (from requests!=2.15,!=2.16,>=2.5.0->twine) (2.6)\n",
      "Requirement already satisfied: urllib3<1.23,>=1.21.1 in /opt/conda/lib/python3.6/site-packages (from requests!=2.15,!=2.16,>=2.5.0->twine) (1.22)\n",
      "Requirement already satisfied: certifi>=2017.4.17 in /opt/conda/lib/python3.6/site-packages (from requests!=2.15,!=2.16,>=2.5.0->twine) (2017.7.27.1)\n"
     ]
    }
   ],
   "source": [
    "! pip install -U pip\n",
    "! pip install twine ## submit your to pip "
   ]
  },
  {
   "cell_type": "code",
   "execution_count": 1,
   "metadata": {},
   "outputs": [],
   "source": [
    "import twine\n",
    "import pip"
   ]
  },
  {
   "cell_type": "markdown",
   "metadata": {},
   "source": [
    "Navigate to the directory of the setup.py file. First, make sure everything is configured properly using"
   ]
  },
  {
   "cell_type": "code",
   "execution_count": 20,
   "metadata": {},
   "outputs": [
    {
     "name": "stdout",
     "output_type": "stream",
     "text": [
      "running test\n",
      "running egg_info\n",
      "writing hLDA.egg-info/PKG-INFO\n",
      "writing dependency_links to hLDA.egg-info/dependency_links.txt\n",
      "writing top-level names to hLDA.egg-info/top_level.txt\n",
      "reading manifest file 'hLDA.egg-info/SOURCES.txt'\n",
      "writing manifest file 'hLDA.egg-info/SOURCES.txt'\n",
      "running build_ext\n"
     ]
    },
    {
     "name": "stderr",
     "output_type": "stream",
     "text": [
      "\n",
      "----------------------------------------------------------------------\n",
      "Ran 0 tests in 0.000s\n",
      "\n",
      "OK\n"
     ]
    }
   ],
   "source": [
    "%%bash\n",
    "\n",
    "python setup.py test "
   ]
  },
  {
   "cell_type": "markdown",
   "metadata": {},
   "source": [
    "Create the distribution going to send to PyPI using:"
   ]
  },
  {
   "cell_type": "code",
   "execution_count": 31,
   "metadata": {
    "scrolled": true
   },
   "outputs": [
    {
     "name": "stdout",
     "output_type": "stream",
     "text": [
      "running sdist\n",
      "running egg_info\n",
      "writing hierarchical_LDA.egg-info/PKG-INFO\n",
      "writing dependency_links to hierarchical_LDA.egg-info/dependency_links.txt\n",
      "writing top-level names to hierarchical_LDA.egg-info/top_level.txt\n",
      "reading manifest file 'hierarchical_LDA.egg-info/SOURCES.txt'\n",
      "writing manifest file 'hierarchical_LDA.egg-info/SOURCES.txt'\n",
      "running check\n",
      "creating hierarchical_LDA-0.0.1\n",
      "creating hierarchical_LDA-0.0.1/hierarchical_LDA\n",
      "creating hierarchical_LDA-0.0.1/hierarchical_LDA.egg-info\n",
      "copying files to hierarchical_LDA-0.0.1...\n",
      "copying setup.py -> hierarchical_LDA-0.0.1\n",
      "copying hierarchical_LDA/__init__.py -> hierarchical_LDA-0.0.1/hierarchical_LDA\n",
      "copying hierarchical_LDA.egg-info/PKG-INFO -> hierarchical_LDA-0.0.1/hierarchical_LDA.egg-info\n",
      "copying hierarchical_LDA.egg-info/SOURCES.txt -> hierarchical_LDA-0.0.1/hierarchical_LDA.egg-info\n",
      "copying hierarchical_LDA.egg-info/dependency_links.txt -> hierarchical_LDA-0.0.1/hierarchical_LDA.egg-info\n",
      "copying hierarchical_LDA.egg-info/not-zip-safe -> hierarchical_LDA-0.0.1/hierarchical_LDA.egg-info\n",
      "copying hierarchical_LDA.egg-info/top_level.txt -> hierarchical_LDA-0.0.1/hierarchical_LDA.egg-info\n",
      "Writing hierarchical_LDA-0.0.1/setup.cfg\n",
      "Creating tar archive\n",
      "removing 'hierarchical_LDA-0.0.1' (and everything under it)\n"
     ]
    },
    {
     "name": "stderr",
     "output_type": "stream",
     "text": [
      "warning: sdist: standard file not found: should have one of README, README.rst, README.txt, README.md\n",
      "\n"
     ]
    }
   ],
   "source": [
    "%%bash\n",
    "\n",
    "python setup.py sdist"
   ]
  },
  {
   "cell_type": "markdown",
   "metadata": {},
   "source": [
    "Distributing to PyPI"
   ]
  },
  {
   "cell_type": "code",
   "execution_count": 32,
   "metadata": {
    "scrolled": true
   },
   "outputs": [
    {
     "name": "stdout",
     "output_type": "stream",
     "text": [
      "Uploading distributions to https://test.pypi.org/legacy/\n",
      "Uploading hierarchical_LDA-0.0.1.tar.gz\n",
      "\r",
      "  0%|          | 0.00/5.93k [00:00<?, ?B/s]\r",
      "100%|██████████| 5.93k/5.93k [00:00<00:00, 6.11kB/s]\n"
     ]
    }
   ],
   "source": [
    "%%bash\n",
    "\n",
    "export TWINE_USERNAME='sakuramomo1005' \n",
    "export TWINE_PASSWORD=''\n",
    "twine upload --repository-url  https://test.pypi.org/legacy/ dist/*  \n"
   ]
  }
 ],
 "metadata": {
  "kernelspec": {
   "display_name": "Python 3",
   "language": "python",
   "name": "python3"
  },
  "language_info": {
   "codemirror_mode": {
    "name": "ipython",
    "version": 3
   },
   "file_extension": ".py",
   "mimetype": "text/x-python",
   "name": "python",
   "nbconvert_exporter": "python",
   "pygments_lexer": "ipython3",
   "version": "3.6.5"
  }
 },
 "nbformat": 4,
 "nbformat_minor": 2
}
